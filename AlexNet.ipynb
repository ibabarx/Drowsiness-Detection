{
  "nbformat": 4,
  "nbformat_minor": 0,
  "metadata": {
    "colab": {
      "provenance": []
    },
    "kernelspec": {
      "name": "python3",
      "display_name": "Python 3"
    },
    "language_info": {
      "name": "python"
    },
    "accelerator": "GPU",
    "gpuClass": "standard"
  },
  "cells": [
    {
      "cell_type": "code",
      "source": [
        "import numpy as np\n",
        "import os\n",
        "import cv2 as cv\n",
        "import tensorflow as tf\n",
        "from tensorflow import keras\n",
        "from tensorflow.keras.layers import Input, Lambda, Dense, Flatten, Conv2D, MaxPooling2D, Dropout\n",
        "from tensorflow.keras.models import Model\n",
        "from tensorflow.keras.models import Sequential\n",
        "from keras.preprocessing.image import ImageDataGenerator\n",
        "import matplotlib.pyplot as plt"
      ],
      "metadata": {
        "id": "v72cDYvSFoH0"
      },
      "execution_count": 1,
      "outputs": []
    },
    {
      "cell_type": "code",
      "source": [
        "train_folders_directory = 'drive/MyDrive/Colab Notebooks/Eyelid_Closure_Images/TRAIN/'\n",
        "test_folders_directory = 'drive/MyDrive/Colab Notebooks/Eyelid_Closure_Images/TEST'\n",
        "import os\n",
        "print(os.listdir(test_folders_directory))"
      ],
      "metadata": {
        "id": "HFQHa3yREJPB",
        "colab": {
          "base_uri": "https://localhost:8080/"
        },
        "outputId": "7760f568-5e73-44af-bbc9-824fa3b1b713"
      },
      "execution_count": 2,
      "outputs": [
        {
          "output_type": "stream",
          "name": "stdout",
          "text": [
            "['TEST']\n"
          ]
        }
      ]
    },
    {
      "cell_type": "code",
      "source": [
        "train_datagen = ImageDataGenerator(\n",
        "        rescale=1 / 255.0,\n",
        "        rotation_range=20,\n",
        "        zoom_range=0.05,\n",
        "        width_shift_range=0.05,\n",
        "        height_shift_range=0.05,\n",
        "        shear_range=0.05,\n",
        "        horizontal_flip=True,\n",
        "        fill_mode=\"nearest\",\n",
        "        validation_split=0.20)\n",
        "\n",
        "test_datagen = ImageDataGenerator(rescale=1 / 255.0)\n",
        "\n",
        "train_generator = train_datagen.flow_from_directory(\n",
        "    directory=train_folders_directory,\n",
        "    target_size=(227, 227),\n",
        "    color_mode=\"rgb\",\n",
        "    batch_size=128,\n",
        "    class_mode=\"categorical\",\n",
        "    subset='training',\n",
        "    shuffle=True,\n",
        "    seed=7\n",
        ")\n",
        "valid_generator = train_datagen.flow_from_directory(\n",
        "    directory=train_folders_directory,\n",
        "    target_size=(227, 227),\n",
        "    color_mode=\"rgb\",\n",
        "    batch_size=128,\n",
        "    class_mode=\"categorical\",\n",
        "    subset='validation',\n",
        "    shuffle=True,\n",
        "    seed=7\n",
        ")\n",
        "test_generator = test_datagen.flow_from_directory(\n",
        "    directory=test_folders_directory,\n",
        "    target_size=(227, 227),\n",
        "    color_mode=\"rgb\",\n",
        "    batch_size=1,\n",
        "    class_mode=None,\n",
        "    shuffle=False,\n",
        ")"
      ],
      "metadata": {
        "colab": {
          "base_uri": "https://localhost:8080/"
        },
        "id": "NZ8wRsZkCPyE",
        "outputId": "d880862a-b1fb-475f-c5a3-f13c53cda4d2"
      },
      "execution_count": 7,
      "outputs": [
        {
          "output_type": "stream",
          "name": "stdout",
          "text": [
            "Found 3548 images belonging to 2 classes.\n",
            "Found 887 images belonging to 2 classes.\n",
            "Found 311 images belonging to 1 classes.\n"
          ]
        }
      ]
    },
    {
      "cell_type": "code",
      "source": [
        "def AlexNet():\n",
        "  AlexNet = Sequential()\n",
        "  AlexNet.add(Conv2D(filters=96, kernel_size=(11,11), strides=(4,4), activation='relu', input_shape=(227,227,3)))\n",
        "  AlexNet.add(MaxPooling2D(pool_size=(3,3), strides=(2,2)))\n",
        "  AlexNet.add(Conv2D(filters=256, kernel_size=(5,5), strides=(1,1), activation='relu', padding=\"same\"))\n",
        "  AlexNet.add(MaxPooling2D(pool_size=(3,3), strides=(2,2)))\n",
        "  AlexNet.add(Conv2D(filters=384, kernel_size=(3,3), strides=(1,1), activation='relu', padding=\"same\"))\n",
        "  AlexNet.add(Conv2D(filters=384, kernel_size=(3,3), strides=(1,1), activation='relu', padding=\"same\"))\n",
        "  AlexNet.add(Conv2D(filters=256, kernel_size=(3,3), strides=(1,1), activation='relu', padding=\"same\"))\n",
        "  AlexNet.add(MaxPooling2D(pool_size=(3,3), strides=(2,2)))\n",
        "  AlexNet.add(Flatten())\n",
        "  AlexNet.add(Dense(4096, activation='relu'))\n",
        "  AlexNet.add(Dropout(0.5))\n",
        "  AlexNet.add(Dense(4096, activation='relu'))\n",
        "  AlexNet.add(Dropout(0.5))\n",
        "  AlexNet.add(Dense(2, activation='softmax'))\n",
        "  AlexNet.compile(loss=\"categorical_crossentropy\", metrics=[\"accuracy\"], optimizer=\"adam\")\n",
        "  return AlexNet\n"
      ],
      "metadata": {
        "id": "JtuWXmH6YeGI"
      },
      "execution_count": 8,
      "outputs": []
    },
    {
      "cell_type": "code",
      "source": [
        "AlexNet_model = AlexNet()\n",
        "AlexNet_history = AlexNet_model.fit(train_generator, epochs=50, validation_data=valid_generator, shuffle=True, validation_steps=len(valid_generator))"
      ],
      "metadata": {
        "colab": {
          "base_uri": "https://localhost:8080/"
        },
        "id": "sVRQRPoWZfuM",
        "outputId": "95b0d1be-b154-4359-b247-74b4dcda8461"
      },
      "execution_count": 9,
      "outputs": [
        {
          "output_type": "stream",
          "name": "stdout",
          "text": [
            "Epoch 1/50\n",
            "28/28 [==============================] - 60s 2s/step - loss: 0.8839 - accuracy: 0.5203 - val_loss: 0.6968 - val_accuracy: 0.5299\n",
            "Epoch 2/50\n",
            "28/28 [==============================] - 54s 2s/step - loss: 0.7114 - accuracy: 0.5248 - val_loss: 0.7222 - val_accuracy: 0.5163\n",
            "Epoch 3/50\n",
            "28/28 [==============================] - 54s 2s/step - loss: 0.6283 - accuracy: 0.6257 - val_loss: 0.4721 - val_accuracy: 0.8343\n",
            "Epoch 4/50\n",
            "28/28 [==============================] - 54s 2s/step - loss: 0.6087 - accuracy: 0.7737 - val_loss: 0.5586 - val_accuracy: 0.8591\n",
            "Epoch 5/50\n",
            "28/28 [==============================] - 54s 2s/step - loss: 0.3840 - accuracy: 0.8746 - val_loss: 0.3153 - val_accuracy: 0.9008\n",
            "Epoch 6/50\n",
            "28/28 [==============================] - 54s 2s/step - loss: 0.1415 - accuracy: 0.9572 - val_loss: 0.4028 - val_accuracy: 0.9143\n",
            "Epoch 7/50\n",
            "28/28 [==============================] - 54s 2s/step - loss: 0.2854 - accuracy: 0.8909 - val_loss: 0.6136 - val_accuracy: 0.8207\n",
            "Epoch 8/50\n",
            "28/28 [==============================] - 53s 2s/step - loss: 0.2563 - accuracy: 0.9056 - val_loss: 0.4675 - val_accuracy: 0.8207\n",
            "Epoch 9/50\n",
            "28/28 [==============================] - 54s 2s/step - loss: 0.1641 - accuracy: 0.9417 - val_loss: 0.5457 - val_accuracy: 0.8320\n",
            "Epoch 10/50\n",
            "28/28 [==============================] - 54s 2s/step - loss: 0.0953 - accuracy: 0.9704 - val_loss: 0.4787 - val_accuracy: 0.8546\n",
            "Epoch 11/50\n",
            "28/28 [==============================] - 54s 2s/step - loss: 0.0995 - accuracy: 0.9670 - val_loss: 0.4644 - val_accuracy: 0.8670\n",
            "Epoch 12/50\n",
            "28/28 [==============================] - 54s 2s/step - loss: 0.0877 - accuracy: 0.9715 - val_loss: 0.3323 - val_accuracy: 0.8918\n",
            "Epoch 13/50\n",
            "28/28 [==============================] - 54s 2s/step - loss: 0.0654 - accuracy: 0.9797 - val_loss: 0.3184 - val_accuracy: 0.9087\n",
            "Epoch 14/50\n",
            "28/28 [==============================] - 54s 2s/step - loss: 0.0493 - accuracy: 0.9820 - val_loss: 0.3327 - val_accuracy: 0.9030\n",
            "Epoch 15/50\n",
            "28/28 [==============================] - 55s 2s/step - loss: 0.0420 - accuracy: 0.9873 - val_loss: 0.2644 - val_accuracy: 0.9233\n",
            "Epoch 16/50\n",
            "28/28 [==============================] - 54s 2s/step - loss: 0.0422 - accuracy: 0.9856 - val_loss: 0.2572 - val_accuracy: 0.9188\n",
            "Epoch 17/50\n",
            "28/28 [==============================] - 53s 2s/step - loss: 0.0404 - accuracy: 0.9870 - val_loss: 0.3496 - val_accuracy: 0.9132\n",
            "Epoch 18/50\n",
            "28/28 [==============================] - 54s 2s/step - loss: 0.0444 - accuracy: 0.9859 - val_loss: 0.2937 - val_accuracy: 0.9098\n",
            "Epoch 19/50\n",
            "28/28 [==============================] - 53s 2s/step - loss: 0.0278 - accuracy: 0.9910 - val_loss: 0.2889 - val_accuracy: 0.9267\n",
            "Epoch 20/50\n",
            "28/28 [==============================] - 53s 2s/step - loss: 0.0246 - accuracy: 0.9918 - val_loss: 0.2244 - val_accuracy: 0.9380\n",
            "Epoch 21/50\n",
            "28/28 [==============================] - 54s 2s/step - loss: 0.0200 - accuracy: 0.9946 - val_loss: 0.2577 - val_accuracy: 0.9312\n",
            "Epoch 22/50\n",
            "28/28 [==============================] - 53s 2s/step - loss: 0.0194 - accuracy: 0.9930 - val_loss: 0.3310 - val_accuracy: 0.9200\n",
            "Epoch 23/50\n",
            "28/28 [==============================] - 53s 2s/step - loss: 0.0287 - accuracy: 0.9918 - val_loss: 0.2984 - val_accuracy: 0.9267\n",
            "Epoch 24/50\n",
            "28/28 [==============================] - 53s 2s/step - loss: 0.0163 - accuracy: 0.9941 - val_loss: 0.2749 - val_accuracy: 0.9301\n",
            "Epoch 25/50\n",
            "28/28 [==============================] - 53s 2s/step - loss: 0.0476 - accuracy: 0.9839 - val_loss: 0.1723 - val_accuracy: 0.9515\n",
            "Epoch 26/50\n",
            "28/28 [==============================] - 53s 2s/step - loss: 0.0192 - accuracy: 0.9930 - val_loss: 0.2559 - val_accuracy: 0.9312\n",
            "Epoch 27/50\n",
            "28/28 [==============================] - 54s 2s/step - loss: 0.0235 - accuracy: 0.9927 - val_loss: 0.1676 - val_accuracy: 0.9560\n",
            "Epoch 28/50\n",
            "28/28 [==============================] - 53s 2s/step - loss: 0.0123 - accuracy: 0.9961 - val_loss: 0.2156 - val_accuracy: 0.9549\n",
            "Epoch 29/50\n",
            "28/28 [==============================] - 53s 2s/step - loss: 0.0165 - accuracy: 0.9949 - val_loss: 0.2124 - val_accuracy: 0.9504\n",
            "Epoch 30/50\n",
            "28/28 [==============================] - 53s 2s/step - loss: 0.0099 - accuracy: 0.9969 - val_loss: 0.2680 - val_accuracy: 0.9459\n",
            "Epoch 31/50\n",
            "28/28 [==============================] - 53s 2s/step - loss: 0.0166 - accuracy: 0.9958 - val_loss: 0.2899 - val_accuracy: 0.9346\n",
            "Epoch 32/50\n",
            "28/28 [==============================] - 53s 2s/step - loss: 0.0106 - accuracy: 0.9955 - val_loss: 0.1933 - val_accuracy: 0.9617\n",
            "Epoch 33/50\n",
            "28/28 [==============================] - 53s 2s/step - loss: 0.0133 - accuracy: 0.9949 - val_loss: 0.4662 - val_accuracy: 0.9391\n",
            "Epoch 34/50\n",
            "28/28 [==============================] - 53s 2s/step - loss: 0.0242 - accuracy: 0.9927 - val_loss: 0.2438 - val_accuracy: 0.9436\n",
            "Epoch 35/50\n",
            "28/28 [==============================] - 54s 2s/step - loss: 0.0180 - accuracy: 0.9924 - val_loss: 0.2079 - val_accuracy: 0.9425\n",
            "Epoch 36/50\n",
            "28/28 [==============================] - 53s 2s/step - loss: 0.0203 - accuracy: 0.9944 - val_loss: 0.1642 - val_accuracy: 0.9605\n",
            "Epoch 37/50\n",
            "28/28 [==============================] - 53s 2s/step - loss: 0.0107 - accuracy: 0.9963 - val_loss: 0.2417 - val_accuracy: 0.9526\n",
            "Epoch 38/50\n",
            "28/28 [==============================] - 53s 2s/step - loss: 0.0218 - accuracy: 0.9935 - val_loss: 0.1558 - val_accuracy: 0.9639\n",
            "Epoch 39/50\n",
            "28/28 [==============================] - 53s 2s/step - loss: 0.0106 - accuracy: 0.9958 - val_loss: 0.1473 - val_accuracy: 0.9617\n",
            "Epoch 40/50\n",
            "28/28 [==============================] - 54s 2s/step - loss: 0.0021 - accuracy: 0.9992 - val_loss: 0.2218 - val_accuracy: 0.9583\n",
            "Epoch 41/50\n",
            "28/28 [==============================] - 53s 2s/step - loss: 0.0091 - accuracy: 0.9966 - val_loss: 0.1941 - val_accuracy: 0.9560\n",
            "Epoch 42/50\n",
            "28/28 [==============================] - 53s 2s/step - loss: 0.0063 - accuracy: 0.9977 - val_loss: 0.1773 - val_accuracy: 0.9594\n",
            "Epoch 43/50\n",
            "28/28 [==============================] - 53s 2s/step - loss: 0.0028 - accuracy: 0.9986 - val_loss: 0.3185 - val_accuracy: 0.9639\n",
            "Epoch 44/50\n",
            "28/28 [==============================] - 53s 2s/step - loss: 0.0078 - accuracy: 0.9977 - val_loss: 0.2532 - val_accuracy: 0.9628\n",
            "Epoch 45/50\n",
            "28/28 [==============================] - 57s 2s/step - loss: 0.0131 - accuracy: 0.9961 - val_loss: 0.3185 - val_accuracy: 0.9560\n",
            "Epoch 46/50\n",
            "28/28 [==============================] - 54s 2s/step - loss: 0.0288 - accuracy: 0.9918 - val_loss: 0.1726 - val_accuracy: 0.9526\n",
            "Epoch 47/50\n",
            "28/28 [==============================] - 53s 2s/step - loss: 0.0147 - accuracy: 0.9946 - val_loss: 0.2018 - val_accuracy: 0.9572\n",
            "Epoch 48/50\n",
            "28/28 [==============================] - 53s 2s/step - loss: 0.0050 - accuracy: 0.9986 - val_loss: 0.2194 - val_accuracy: 0.9470\n",
            "Epoch 49/50\n",
            "28/28 [==============================] - 54s 2s/step - loss: 0.0028 - accuracy: 0.9994 - val_loss: 0.3228 - val_accuracy: 0.9572\n",
            "Epoch 50/50\n",
            "28/28 [==============================] - 53s 2s/step - loss: 0.0062 - accuracy: 0.9983 - val_loss: 0.2048 - val_accuracy: 0.9594\n"
          ]
        }
      ]
    },
    {
      "cell_type": "code",
      "source": [
        "AlexNet_accuracy = AlexNet_history.history['accuracy']\n",
        "AlexNet_val_accuracy = AlexNet_history.history['val_accuracy']\n",
        "AlexNet_loss = AlexNet_history.history['loss']\n",
        "AlexNet_val_loss = AlexNet_history.history['val_loss']\n",
        "AlexNet_epochs = range(50)\n",
        "\n",
        "plt.plot(AlexNet_epochs, AlexNet_accuracy, \"b\", label=\"AlexNet_trainning accuracy\")\n",
        "plt.plot(AlexNet_epochs, AlexNet_val_accuracy, \"r\", label=\"AlexNet_validation accuracy\")\n",
        "plt.legend()\n",
        "plt.show()\n",
        "\n",
        "plt.plot(AlexNet_epochs, AlexNet_loss, \"b\", label=\"AlexNet_trainning loss\")\n",
        "plt.plot(AlexNet_epochs, AlexNet_val_loss, \"r\", label=\"AlexNet_validation loss\")\n",
        "plt.legend()\n",
        "plt.show()"
      ],
      "metadata": {
        "colab": {
          "base_uri": "https://localhost:8080/",
          "height": 513
        },
        "id": "PPm8vkf5Pg8m",
        "outputId": "fa22c26e-3a18-4574-c12a-9325a6226e7d"
      },
      "execution_count": 10,
      "outputs": [
        {
          "output_type": "display_data",
          "data": {
            "text/plain": [
              "<Figure size 432x288 with 1 Axes>"
            ],
            "image/png": "[encoded data removed]"
          },
          "metadata": {
            "needs_background": "light"
          }
        },
        {
          "output_type": "display_data",
          "data": {
            "text/plain": [
              "<Figure size 432x288 with 1 Axes>"
            ],
            "image/png": "[encoded data removed]"
          },
          "metadata": {
            "needs_background": "light"
          }
        }
      ]
    }
  ]
}