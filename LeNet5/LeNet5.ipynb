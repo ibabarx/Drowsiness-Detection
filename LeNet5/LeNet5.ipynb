{
  "nbformat": 4,
  "nbformat_minor": 0,
  "metadata": {
    "colab": {
      "provenance": []
    },
    "kernelspec": {
      "name": "python3",
      "display_name": "Python 3"
    },
    "language_info": {
      "name": "python"
    },
    "accelerator": "GPU",
    "gpuClass": "standard"
  },
  "cells": [
    {
      "cell_type": "code",
      "execution_count": 1,
      "metadata": {
        "id": "CSvBKCh_WVLP"
      },
      "outputs": [],
      "source": [
        "import numpy as np\n",
        "import os\n",
        "import cv2 as cv\n",
        "import tensorflow as tf\n",
        "from tensorflow import keras\n",
        "from tensorflow.keras.layers import Input, Dense, Flatten, Conv2D, MaxPooling2D, Dropout\n",
        "from tensorflow.keras.models import Model\n",
        "from tensorflow.keras.models import Sequential\n",
        "from keras.preprocessing.image import ImageDataGenerator\n",
        "import matplotlib.pyplot as plt"
      ]
    },
    {
      "cell_type": "code",
      "source": [
        "train_folders_directory = 'drive/MyDrive/data/train/'\n",
        "import os\n",
        "print(os.listdir(train_folders_directory))"
      ],
      "metadata": {
        "colab": {
          "base_uri": "https://localhost:8080/"
        },
        "id": "glLdwCiuXGL3",
        "outputId": "e494762a-90d2-4151-b98a-ab9b712de697"
      },
      "execution_count": 3,
      "outputs": [
        {
          "output_type": "stream",
          "name": "stdout",
          "text": [
            "['close', 'open']\n"
          ]
        }
      ]
    },
    {
      "cell_type": "code",
      "source": [
        "train_datagen = ImageDataGenerator(\n",
        "        rescale=1 / 255.0,\n",
        "        rotation_range=20,\n",
        "        zoom_range=0.05,\n",
        "        width_shift_range=0.05,\n",
        "        height_shift_range=0.05,\n",
        "        shear_range=0.05,\n",
        "        horizontal_flip=True,\n",
        "        fill_mode=\"nearest\",\n",
        "        validation_split=0.20)\n",
        "\n",
        "train_generator = train_datagen.flow_from_directory(\n",
        "    directory=train_folders_directory,\n",
        "    target_size=(32, 32),\n",
        "    color_mode=\"grayscale\",\n",
        "    batch_size=128,\n",
        "    class_mode=\"categorical\",\n",
        "    subset='training',\n",
        "    shuffle=True,\n",
        "    seed=7\n",
        ")\n",
        "\n",
        "valid_generator = train_datagen.flow_from_directory(\n",
        "    directory=train_folders_directory,\n",
        "    target_size=(32, 32),\n",
        "    color_mode=\"grayscale\",\n",
        "    batch_size=128,\n",
        "    class_mode=\"categorical\",\n",
        "    subset='validation',\n",
        "    shuffle=True,\n",
        "    seed=7\n",
        ")"
      ],
      "metadata": {
        "colab": {
          "base_uri": "https://localhost:8080/"
        },
        "id": "zWj8fPfrXevf",
        "outputId": "14b09a9c-0a91-49f8-91d7-804a54e38fc7"
      },
      "execution_count": 4,
      "outputs": [
        {
          "output_type": "stream",
          "name": "stdout",
          "text": [
            "Found 12000 images belonging to 2 classes.\n",
            "Found 2998 images belonging to 2 classes.\n"
          ]
        }
      ]
    },
    {
      "cell_type": "code",
      "source": [
        "def LeNet5():\n",
        "  LeNet5 = Sequential()\n",
        "  LeNet5.add(Conv2D(6, (5, 5), activation=\"relu\", input_shape=(32,32,1)))\n",
        "  LeNet5.add(MaxPooling2D(2, 2))\n",
        "  LeNet5.add(Conv2D(16, (5, 5), activation=\"relu\"))\n",
        "  LeNet5.add(MaxPooling2D(2, 2))\n",
        "  LeNet5.add(Flatten())\n",
        "  LeNet5.add(Dense(120, activation=\"relu\"))\n",
        "  LeNet5.add(Dropout(0.25))\n",
        "  LeNet5.add(Dense(84, activation=\"relu\"))\n",
        "  LeNet5.add(Dropout(0.25))\n",
        "  LeNet5.add(Dense(2, activation=\"softmax\"))\n",
        "  LeNet5.compile(loss=\"categorical_crossentropy\", metrics=[\"accuracy\"], optimizer=\"adam\")\n",
        "  return LeNet5"
      ],
      "metadata": {
        "id": "KAXjb2FRXkFP"
      },
      "execution_count": 14,
      "outputs": []
    },
    {
      "cell_type": "code",
      "source": [
        "LeNet5_model = LeNet5()\n",
        "LeNet5_history = LeNet5_model.fit(train_generator, epochs=50, validation_data=valid_generator, shuffle=True, validation_steps=len(valid_generator),batch_size=32)"
      ],
      "metadata": {
        "colab": {
          "base_uri": "https://localhost:8080/"
        },
        "id": "8B32FYxUXz4H",
        "outputId": "2f043615-dd43-457c-de3e-0cb10ad314bd"
      },
      "execution_count": 15,
      "outputs": [
        {
          "output_type": "stream",
          "name": "stdout",
          "text": [
            "Epoch 1/50\n",
            "94/94 [==============================] - 1668s 18s/step - loss: 0.4943 - accuracy: 0.7806 - val_loss: 0.7459 - val_accuracy: 0.6734\n",
            "Epoch 2/50\n",
            "94/94 [==============================] - 28s 302ms/step - loss: 0.3032 - accuracy: 0.8813 - val_loss: 0.5711 - val_accuracy: 0.7495\n",
            "Epoch 3/50\n",
            "94/94 [==============================] - 28s 298ms/step - loss: 0.2145 - accuracy: 0.9212 - val_loss: 0.4290 - val_accuracy: 0.8159\n",
            "Epoch 4/50\n",
            "94/94 [==============================] - 28s 298ms/step - loss: 0.1669 - accuracy: 0.9380 - val_loss: 0.3767 - val_accuracy: 0.8492\n",
            "Epoch 5/50\n",
            "94/94 [==============================] - 28s 300ms/step - loss: 0.1393 - accuracy: 0.9463 - val_loss: 0.3070 - val_accuracy: 0.8759\n",
            "Epoch 6/50\n",
            "94/94 [==============================] - 28s 298ms/step - loss: 0.1157 - accuracy: 0.9567 - val_loss: 0.2968 - val_accuracy: 0.8916\n",
            "Epoch 7/50\n",
            "94/94 [==============================] - 28s 303ms/step - loss: 0.1042 - accuracy: 0.9621 - val_loss: 0.2816 - val_accuracy: 0.8939\n",
            "Epoch 8/50\n",
            "94/94 [==============================] - 28s 299ms/step - loss: 0.0906 - accuracy: 0.9677 - val_loss: 0.2809 - val_accuracy: 0.8979\n",
            "Epoch 9/50\n",
            "94/94 [==============================] - 33s 352ms/step - loss: 0.0877 - accuracy: 0.9683 - val_loss: 0.2583 - val_accuracy: 0.9049\n",
            "Epoch 10/50\n",
            "94/94 [==============================] - 28s 298ms/step - loss: 0.0781 - accuracy: 0.9717 - val_loss: 0.2522 - val_accuracy: 0.9183\n",
            "Epoch 11/50\n",
            "94/94 [==============================] - 28s 298ms/step - loss: 0.0737 - accuracy: 0.9724 - val_loss: 0.2382 - val_accuracy: 0.9186\n",
            "Epoch 12/50\n",
            "94/94 [==============================] - 28s 301ms/step - loss: 0.0772 - accuracy: 0.9712 - val_loss: 0.2383 - val_accuracy: 0.9099\n",
            "Epoch 13/50\n",
            "94/94 [==============================] - 28s 301ms/step - loss: 0.0652 - accuracy: 0.9748 - val_loss: 0.2339 - val_accuracy: 0.9199\n",
            "Epoch 14/50\n",
            "94/94 [==============================] - 28s 299ms/step - loss: 0.0605 - accuracy: 0.9778 - val_loss: 0.2323 - val_accuracy: 0.9196\n",
            "Epoch 15/50\n",
            "94/94 [==============================] - 29s 305ms/step - loss: 0.0626 - accuracy: 0.9790 - val_loss: 0.2017 - val_accuracy: 0.9290\n",
            "Epoch 16/50\n",
            "94/94 [==============================] - 28s 300ms/step - loss: 0.0586 - accuracy: 0.9786 - val_loss: 0.2117 - val_accuracy: 0.9286\n",
            "Epoch 17/50\n",
            "94/94 [==============================] - 28s 296ms/step - loss: 0.0554 - accuracy: 0.9798 - val_loss: 0.2094 - val_accuracy: 0.9223\n",
            "Epoch 18/50\n",
            "94/94 [==============================] - 28s 300ms/step - loss: 0.0542 - accuracy: 0.9804 - val_loss: 0.1935 - val_accuracy: 0.9326\n",
            "Epoch 19/50\n",
            "94/94 [==============================] - 33s 351ms/step - loss: 0.0583 - accuracy: 0.9797 - val_loss: 0.2136 - val_accuracy: 0.9293\n",
            "Epoch 20/50\n",
            "94/94 [==============================] - 28s 297ms/step - loss: 0.0550 - accuracy: 0.9788 - val_loss: 0.1936 - val_accuracy: 0.9316\n",
            "Epoch 21/50\n",
            "94/94 [==============================] - 28s 301ms/step - loss: 0.0487 - accuracy: 0.9818 - val_loss: 0.1912 - val_accuracy: 0.9360\n",
            "Epoch 22/50\n",
            "94/94 [==============================] - 29s 310ms/step - loss: 0.0534 - accuracy: 0.9806 - val_loss: 0.2069 - val_accuracy: 0.9280\n",
            "Epoch 23/50\n",
            "94/94 [==============================] - 28s 301ms/step - loss: 0.0508 - accuracy: 0.9808 - val_loss: 0.1904 - val_accuracy: 0.9296\n",
            "Epoch 24/50\n",
            "94/94 [==============================] - 28s 298ms/step - loss: 0.0477 - accuracy: 0.9823 - val_loss: 0.2047 - val_accuracy: 0.9283\n",
            "Epoch 25/50\n",
            "94/94 [==============================] - 28s 297ms/step - loss: 0.0522 - accuracy: 0.9807 - val_loss: 0.2073 - val_accuracy: 0.9260\n",
            "Epoch 26/50\n",
            "94/94 [==============================] - 75s 799ms/step - loss: 0.0482 - accuracy: 0.9835 - val_loss: 0.2238 - val_accuracy: 0.9166\n",
            "Epoch 27/50\n",
            "94/94 [==============================] - 27s 293ms/step - loss: 0.0471 - accuracy: 0.9837 - val_loss: 0.1842 - val_accuracy: 0.9350\n",
            "Epoch 28/50\n",
            "94/94 [==============================] - 28s 295ms/step - loss: 0.0423 - accuracy: 0.9846 - val_loss: 0.2641 - val_accuracy: 0.9106\n",
            "Epoch 29/50\n",
            "94/94 [==============================] - 28s 299ms/step - loss: 0.0428 - accuracy: 0.9845 - val_loss: 0.1939 - val_accuracy: 0.9330\n",
            "Epoch 30/50\n",
            "94/94 [==============================] - 28s 294ms/step - loss: 0.0438 - accuracy: 0.9837 - val_loss: 0.1917 - val_accuracy: 0.9380\n",
            "Epoch 31/50\n",
            "94/94 [==============================] - 28s 296ms/step - loss: 0.0427 - accuracy: 0.9847 - val_loss: 0.2104 - val_accuracy: 0.9350\n",
            "Epoch 32/50\n",
            "94/94 [==============================] - 28s 300ms/step - loss: 0.0448 - accuracy: 0.9829 - val_loss: 0.2022 - val_accuracy: 0.9366\n",
            "Epoch 33/50\n",
            "94/94 [==============================] - 28s 302ms/step - loss: 0.0429 - accuracy: 0.9845 - val_loss: 0.1946 - val_accuracy: 0.9323\n",
            "Epoch 34/50\n",
            "94/94 [==============================] - 28s 297ms/step - loss: 0.0453 - accuracy: 0.9837 - val_loss: 0.1986 - val_accuracy: 0.9316\n",
            "Epoch 35/50\n",
            "94/94 [==============================] - 33s 347ms/step - loss: 0.0380 - accuracy: 0.9864 - val_loss: 0.1964 - val_accuracy: 0.9360\n",
            "Epoch 36/50\n",
            "94/94 [==============================] - 28s 296ms/step - loss: 0.0429 - accuracy: 0.9839 - val_loss: 0.1935 - val_accuracy: 0.9353\n",
            "Epoch 37/50\n",
            "94/94 [==============================] - 33s 351ms/step - loss: 0.0446 - accuracy: 0.9835 - val_loss: 0.1956 - val_accuracy: 0.9326\n",
            "Epoch 38/50\n",
            "94/94 [==============================] - 28s 295ms/step - loss: 0.0428 - accuracy: 0.9835 - val_loss: 0.1828 - val_accuracy: 0.9360\n",
            "Epoch 39/50\n",
            "94/94 [==============================] - 28s 295ms/step - loss: 0.0407 - accuracy: 0.9852 - val_loss: 0.1866 - val_accuracy: 0.9413\n",
            "Epoch 40/50\n",
            "94/94 [==============================] - 28s 296ms/step - loss: 0.0385 - accuracy: 0.9862 - val_loss: 0.1882 - val_accuracy: 0.9416\n",
            "Epoch 41/50\n",
            "94/94 [==============================] - 28s 300ms/step - loss: 0.0393 - accuracy: 0.9860 - val_loss: 0.2002 - val_accuracy: 0.9386\n",
            "Epoch 42/50\n",
            "94/94 [==============================] - 28s 298ms/step - loss: 0.0370 - accuracy: 0.9865 - val_loss: 0.1957 - val_accuracy: 0.9333\n",
            "Epoch 43/50\n",
            "94/94 [==============================] - 28s 295ms/step - loss: 0.0381 - accuracy: 0.9868 - val_loss: 0.1868 - val_accuracy: 0.9380\n",
            "Epoch 44/50\n",
            "94/94 [==============================] - 33s 350ms/step - loss: 0.0390 - accuracy: 0.9862 - val_loss: 0.1804 - val_accuracy: 0.9396\n",
            "Epoch 45/50\n",
            "94/94 [==============================] - 28s 303ms/step - loss: 0.0356 - accuracy: 0.9866 - val_loss: 0.1884 - val_accuracy: 0.9376\n",
            "Epoch 46/50\n",
            "94/94 [==============================] - 28s 296ms/step - loss: 0.0362 - accuracy: 0.9863 - val_loss: 0.1810 - val_accuracy: 0.9370\n",
            "Epoch 47/50\n",
            "94/94 [==============================] - 28s 295ms/step - loss: 0.0379 - accuracy: 0.9864 - val_loss: 0.1906 - val_accuracy: 0.9390\n",
            "Epoch 48/50\n",
            "94/94 [==============================] - 28s 297ms/step - loss: 0.0336 - accuracy: 0.9885 - val_loss: 0.1732 - val_accuracy: 0.9420\n",
            "Epoch 49/50\n",
            "94/94 [==============================] - 28s 296ms/step - loss: 0.0354 - accuracy: 0.9870 - val_loss: 0.1944 - val_accuracy: 0.9316\n",
            "Epoch 50/50\n",
            "94/94 [==============================] - 28s 297ms/step - loss: 0.0316 - accuracy: 0.9884 - val_loss: 0.1883 - val_accuracy: 0.9413\n"
          ]
        }
      ]
    },
    {
      "cell_type": "code",
      "source": [
        "LeNet5_accuracy = LeNet5_history.history['accuracy']\n",
        "LeNet5_val_accuracy = LeNet5_history.history['val_accuracy']\n",
        "LeNet5_loss = LeNet5_history.history['loss']\n",
        "LeNet5_val_loss = LeNet5_history.history['val_loss']\n",
        "LeNet5_epochs = range(50)\n",
        "\n",
        "plt.plot(LeNet5_epochs, LeNet5_accuracy, \"b\", label=\"LeNet5_trainning accuracy\")\n",
        "plt.plot(LeNet5_epochs, LeNet5_val_accuracy, \"r\", label=\"LeNet5_validation accuracy\")\n",
        "plt.legend()\n",
        "plt.show()\n",
        "\n",
        "plt.plot(LeNet5_epochs, LeNet5_loss, \"b\", label=\"LeNet5_trainning loss\")\n",
        "plt.plot(LeNet5_epochs, LeNet5_val_loss, \"r\", label=\"LeNet5_validation loss\")\n",
        "plt.legend()\n",
        "plt.show()"
      ],
      "metadata": {
        "colab": {
          "base_uri": "https://localhost:8080/",
          "height": 515
        },
        "id": "oSe2_j8GX3t3",
        "outputId": "188a6a2e-254d-4e89-c86a-418db47af448"
      },
      "execution_count": 16,
      "outputs": [
        {
          "output_type": "display_data",
          "data": {
            "text/plain": [
              "<Figure size 432x288 with 1 Axes>"
            ],
            "image/png": "[encoded data removed]"
          },
          "metadata": {
            "needs_background": "light"
          }
        },
        {
          "output_type": "display_data",
          "data": {
            "text/plain": [
              "<Figure size 432x288 with 1 Axes>"
            ],
            "image/png": "[encoded data removed]"
          },
          "metadata": {
            "needs_background": "light"
          }
        }
      ]
    },
    {
      "cell_type": "code",
      "source": [
        "LeNet5_model.save(\"drive/MyDrive/LeNet5.h5\")\n",
        "LeNet5_model.save(\"drive/MyDrive/LeNet5.model\")"
      ],
      "metadata": {
        "colab": {
          "base_uri": "https://localhost:8080/"
        },
        "id": "Y83tzrLeX6vP",
        "outputId": "9b1496d6-31ab-41d1-d0a8-b25fab0e67d3"
      },
      "execution_count": 18,
      "outputs": [
        {
          "output_type": "stream",
          "name": "stderr",
          "text": [
            "WARNING:absl:Found untraced functions such as _jit_compiled_convolution_op, _jit_compiled_convolution_op while saving (showing 2 of 2). These functions will not be directly callable after loading.\n"
          ]
        }
      ]
    }
  ]
}