{
  "nbformat": 4,
  "nbformat_minor": 0,
  "metadata": {
    "colab": {
      "provenance": []
    },
    "kernelspec": {
      "name": "python3",
      "display_name": "Python 3"
    },
    "language_info": {
      "name": "python"
    },
    "accelerator": "GPU",
    "gpuClass": "standard"
  },
  "cells": [
    {
      "cell_type": "code",
      "source": [
        "import numpy as np\n",
        "import os\n",
        "import cv2 as cv\n",
        "import tensorflow as tf\n",
        "from tensorflow import keras\n",
        "from tensorflow.keras.layers import Input, Lambda, Dense, Flatten, Conv2D, MaxPooling2D, Dropout\n",
        "from tensorflow.keras.models import Model\n",
        "from tensorflow.keras.models import Sequential\n",
        "from keras.preprocessing.image import ImageDataGenerator\n",
        "import matplotlib.pyplot as plt"
      ],
      "metadata": {
        "id": "v72cDYvSFoH0"
      },
      "execution_count": 1,
      "outputs": []
    },
    {
      "cell_type": "code",
      "source": [
        "train_folders_directory = 'drive/MyDrive/Colab Notebooks/Eyelid_Closure_Images/TRAIN/'\n",
        "test_folders_directory = 'drive/MyDrive/Colab Notebooks/Eyelid_Closure_Images/TEST'\n",
        "import os\n",
        "print(os.listdir(test_folders_directory))"
      ],
      "metadata": {
        "id": "HFQHa3yREJPB",
        "colab": {
          "base_uri": "https://localhost:8080/"
        },
        "outputId": "7760f568-5e73-44af-bbc9-824fa3b1b713"
      },
      "execution_count": 2,
      "outputs": [
        {
          "output_type": "stream",
          "name": "stdout",
          "text": [
            "['TEST']\n"
          ]
        }
      ]
    },
    {
      "cell_type": "code",
      "source": [
        "train_datagen = ImageDataGenerator(\n",
        "        rescale=1 / 255.0,\n",
        "        rotation_range=20,\n",
        "        zoom_range=0.05,\n",
        "        width_shift_range=0.05,\n",
        "        height_shift_range=0.05,\n",
        "        shear_range=0.05,\n",
        "        horizontal_flip=True,\n",
        "        fill_mode=\"nearest\",\n",
        "        validation_split=0.20)\n",
        "\n",
        "test_datagen = ImageDataGenerator(rescale=1 / 255.0)\n",
        "\n",
        "train_generator = train_datagen.flow_from_directory(\n",
        "    directory=train_folders_directory,\n",
        "    target_size=(32, 32),\n",
        "    color_mode=\"grayscale\",\n",
        "    batch_size=128,\n",
        "    class_mode=\"categorical\",\n",
        "    subset='training',\n",
        "    shuffle=True,\n",
        "    seed=7\n",
        ")\n",
        "valid_generator = train_datagen.flow_from_directory(\n",
        "    directory=train_folders_directory,\n",
        "    target_size=(32, 32),\n",
        "    color_mode=\"grayscale\",\n",
        "    batch_size=128,\n",
        "    class_mode=\"categorical\",\n",
        "    subset='validation',\n",
        "    shuffle=True,\n",
        "    seed=7\n",
        ")\n",
        "test_generator = test_datagen.flow_from_directory(\n",
        "    directory=test_folders_directory,\n",
        "    target_size=(32, 32),\n",
        "    color_mode=\"grayscale\",\n",
        "    batch_size=1,\n",
        "    class_mode=None,\n",
        "    shuffle=False,\n",
        ")"
      ],
      "metadata": {
        "colab": {
          "base_uri": "https://localhost:8080/"
        },
        "id": "NZ8wRsZkCPyE",
        "outputId": "d4fc030f-a2f7-4f1f-e5b0-69481f4bfd50"
      },
      "execution_count": 3,
      "outputs": [
        {
          "output_type": "stream",
          "name": "stdout",
          "text": [
            "Found 3548 images belonging to 2 classes.\n",
            "Found 887 images belonging to 2 classes.\n",
            "Found 311 images belonging to 1 classes.\n"
          ]
        }
      ]
    },
    {
      "cell_type": "code",
      "source": [
        "def LeNet5():\n",
        "  LeNet5 = Sequential()\n",
        "  LeNet5.add(Conv2D(6, (5, 5), activation=\"relu\", input_shape=(32,32,1)))\n",
        "  LeNet5.add(MaxPooling2D(2, 2))\n",
        "  LeNet5.add(Conv2D(16, (5, 5), activation=\"relu\"))\n",
        "  LeNet5.add(MaxPooling2D(2, 2))\n",
        "  LeNet5.add(Flatten())\n",
        "  LeNet5.add(Dense(120, activation=\"relu\"))\n",
        "  LeNet5.add(Dropout(0.25))\n",
        "  LeNet5.add(Dense(84, activation=\"relu\"))\n",
        "  LeNet5.add(Dropout(0.25))\n",
        "  LeNet5.add(Dense(2, activation=\"softmax\"))\n",
        "  LeNet5.compile(loss=\"categorical_crossentropy\", metrics=[\"accuracy\"], optimizer=\"adam\")\n",
        "  return LeNet5\n",
        "\n",
        "def AlexNet():\n",
        "  AlexNet = Sequential()\n",
        "  AlexNet.add(Conv2D(filters=96, kernel_size=(11,11), strides=(4,4), activation='relu', input_shape=(227,227,1)))\n",
        "  AlexNet.add(MaxPooling2D(pool_size=(3,3), strides=(2,2)))\n",
        "  AlexNet.add(Conv2D(filters=256, kernel_size=(5,5), strides=(1,1), activation='relu', padding=\"same\"))\n",
        "  AlexNet.add(MaxPooling2D(pool_size=(3,3), strides=(2,2)))\n",
        "  AlexNet.add(Conv2D(filters=384, kernel_size=(3,3), strides=(1,1), activation='relu', padding=\"same\"))\n",
        "  AlexNet.add(Conv2D(filters=384, kernel_size=(3,3), strides=(1,1), activation='relu', padding=\"same\"))\n",
        "  AlexNet.add(Conv2D(filters=256, kernel_size=(3,3), strides=(1,1), activation='relu', padding=\"same\"))\n",
        "  AlexNet.add(MaxPooling2D(pool_size=(3,3), strides=(2,2)))\n",
        "  AlexNet.add(Flatten())\n",
        "  AlexNet.add(Dense(4096, activation='relu'))\n",
        "  AlexNet.add(Dropout(0.5))\n",
        "  AlexNet.add(Dense(4096, activation='relu'))\n",
        "  AlexNet.add(Dropout(0.5))\n",
        "  AlexNet.add(Dense(2, activation='softmax'))\n",
        "  AlexNet.compile(loss=\"categorical_crossentropy\", metrics=[\"accuracy\"], optimizer=\"adam\")\n",
        "  return AlexNet\n",
        "\n",
        "def vgg16():\n",
        "  vgg16 = Sequential()\n",
        "  vgg16.add(Conv2D(input_shape=(224,224,3),filters=64,kernel_size=(3,3),padding=\"same\", activation=\"relu\"))\n",
        "  vgg16.add(Conv2D(filters=64,kernel_size=(3,3),padding=\"same\", activation=\"relu\"))\n",
        "  vgg16.add(MaxPooling2D(pool_size=(2,2),strides=(2,2),padding='same'))\n",
        "  vgg16.add(Conv2D(filters=128, kernel_size=(3,3), padding=\"same\", activation=\"relu\"))\n",
        "  vgg16.add(Conv2D(filters=128, kernel_size=(3,3), padding=\"same\", activation=\"relu\"))\n",
        "  vgg16.add(MaxPooling2D(pool_size=(2,2),strides=(2,2),padding='same'))\n",
        "  vgg16.add(Conv2D(filters=256, kernel_size=(3,3), padding=\"same\", activation=\"relu\"))\n",
        "  vgg16.add(Conv2D(filters=256, kernel_size=(3,3), padding=\"same\", activation=\"relu\"))\n",
        "  vgg16.add(MaxPooling2D(pool_size=(2,2),strides=(2,2),padding='same'))\n",
        "  vgg16.add(Conv2D(filters=512, kernel_size=(3,3), padding=\"same\", activation=\"relu\"))\n",
        "  vgg16.add(Flatten())\n",
        "  vgg16.add(Dense(4096,\"relu\"))\n",
        "  vgg16.add(Dense(4096,\"relu\"))\n",
        "  vgg16.add(Dense(2, \"sigmoid\"))\n",
        "  vgg16.compile(loss=\"categorical_crossentropy\", metrics=[\"accuracy\"], optimizer=\"adam\")\n",
        "  return vgg16"
      ],
      "metadata": {
        "id": "JtuWXmH6YeGI"
      },
      "execution_count": 4,
      "outputs": []
    },
    {
      "cell_type": "code",
      "source": [
        "LeNet5_model = LeNet5()\n",
        "LeNet5_history = LeNet5_model.fit(train_generator, epochs=50, validation_data=valid_generator, shuffle=True, validation_steps=len(valid_generator))"
      ],
      "metadata": {
        "colab": {
          "base_uri": "https://localhost:8080/"
        },
        "id": "sVRQRPoWZfuM",
        "outputId": "14de1cee-945e-4a67-c594-cce08b5c9cab"
      },
      "execution_count": 5,
      "outputs": [
        {
          "output_type": "stream",
          "name": "stdout",
          "text": [
            "Epoch 1/50\n",
            "28/28 [==============================] - 1403s 50s/step - loss: 0.4973 - accuracy: 0.8103 - val_loss: 0.4067 - val_accuracy: 0.8410\n",
            "Epoch 2/50\n",
            "28/28 [==============================] - 11s 398ms/step - loss: 0.2310 - accuracy: 0.9177 - val_loss: 0.4232 - val_accuracy: 0.8489\n",
            "Epoch 3/50\n",
            "28/28 [==============================] - 11s 393ms/step - loss: 0.1481 - accuracy: 0.9538 - val_loss: 0.5952 - val_accuracy: 0.8309\n",
            "Epoch 4/50\n",
            "28/28 [==============================] - 11s 394ms/step - loss: 0.1430 - accuracy: 0.9563 - val_loss: 0.5044 - val_accuracy: 0.8512\n",
            "Epoch 5/50\n",
            "28/28 [==============================] - 11s 395ms/step - loss: 0.1176 - accuracy: 0.9594 - val_loss: 0.5548 - val_accuracy: 0.8512\n",
            "Epoch 6/50\n",
            "28/28 [==============================] - 13s 461ms/step - loss: 0.1106 - accuracy: 0.9653 - val_loss: 0.4728 - val_accuracy: 0.8478\n",
            "Epoch 7/50\n",
            "28/28 [==============================] - 12s 449ms/step - loss: 0.0936 - accuracy: 0.9687 - val_loss: 0.4938 - val_accuracy: 0.8625\n",
            "Epoch 8/50\n",
            "28/28 [==============================] - 11s 414ms/step - loss: 0.0912 - accuracy: 0.9752 - val_loss: 0.4803 - val_accuracy: 0.8478\n",
            "Epoch 9/50\n",
            "28/28 [==============================] - 11s 396ms/step - loss: 0.0782 - accuracy: 0.9786 - val_loss: 0.4546 - val_accuracy: 0.8636\n",
            "Epoch 10/50\n",
            "28/28 [==============================] - 11s 397ms/step - loss: 0.0727 - accuracy: 0.9783 - val_loss: 0.4362 - val_accuracy: 0.8715\n",
            "Epoch 11/50\n",
            "28/28 [==============================] - 11s 392ms/step - loss: 0.0644 - accuracy: 0.9820 - val_loss: 0.4324 - val_accuracy: 0.8715\n",
            "Epoch 12/50\n",
            "28/28 [==============================] - 11s 389ms/step - loss: 0.0600 - accuracy: 0.9848 - val_loss: 0.5074 - val_accuracy: 0.8546\n",
            "Epoch 13/50\n",
            "28/28 [==============================] - 11s 397ms/step - loss: 0.0589 - accuracy: 0.9839 - val_loss: 0.3616 - val_accuracy: 0.8873\n",
            "Epoch 14/50\n",
            "28/28 [==============================] - 11s 392ms/step - loss: 0.0451 - accuracy: 0.9873 - val_loss: 0.3885 - val_accuracy: 0.8771\n",
            "Epoch 15/50\n",
            "28/28 [==============================] - 11s 395ms/step - loss: 0.0475 - accuracy: 0.9831 - val_loss: 0.3852 - val_accuracy: 0.8929\n",
            "Epoch 16/50\n",
            "28/28 [==============================] - 11s 392ms/step - loss: 0.0417 - accuracy: 0.9868 - val_loss: 0.3533 - val_accuracy: 0.8929\n",
            "Epoch 17/50\n",
            "28/28 [==============================] - 11s 390ms/step - loss: 0.0522 - accuracy: 0.9825 - val_loss: 0.3273 - val_accuracy: 0.8940\n",
            "Epoch 18/50\n",
            "28/28 [==============================] - 11s 394ms/step - loss: 0.0351 - accuracy: 0.9896 - val_loss: 0.3618 - val_accuracy: 0.8963\n",
            "Epoch 19/50\n",
            "28/28 [==============================] - 11s 400ms/step - loss: 0.0373 - accuracy: 0.9887 - val_loss: 0.3008 - val_accuracy: 0.9121\n",
            "Epoch 20/50\n",
            "28/28 [==============================] - 11s 393ms/step - loss: 0.0288 - accuracy: 0.9907 - val_loss: 0.3113 - val_accuracy: 0.9008\n",
            "Epoch 21/50\n",
            "28/28 [==============================] - 11s 392ms/step - loss: 0.0319 - accuracy: 0.9904 - val_loss: 0.2690 - val_accuracy: 0.9154\n",
            "Epoch 22/50\n",
            "28/28 [==============================] - 11s 397ms/step - loss: 0.0303 - accuracy: 0.9904 - val_loss: 0.3052 - val_accuracy: 0.9154\n",
            "Epoch 23/50\n",
            "28/28 [==============================] - 11s 407ms/step - loss: 0.0387 - accuracy: 0.9887 - val_loss: 0.3199 - val_accuracy: 0.9121\n",
            "Epoch 24/50\n",
            "28/28 [==============================] - 11s 389ms/step - loss: 0.0330 - accuracy: 0.9896 - val_loss: 0.2463 - val_accuracy: 0.9121\n",
            "Epoch 25/50\n",
            "28/28 [==============================] - 11s 391ms/step - loss: 0.0272 - accuracy: 0.9918 - val_loss: 0.2490 - val_accuracy: 0.9188\n",
            "Epoch 26/50\n",
            "28/28 [==============================] - 11s 394ms/step - loss: 0.0203 - accuracy: 0.9941 - val_loss: 0.2849 - val_accuracy: 0.9132\n",
            "Epoch 27/50\n",
            "28/28 [==============================] - 11s 390ms/step - loss: 0.0259 - accuracy: 0.9918 - val_loss: 0.2428 - val_accuracy: 0.9256\n",
            "Epoch 28/50\n",
            "28/28 [==============================] - 11s 396ms/step - loss: 0.0226 - accuracy: 0.9915 - val_loss: 0.2382 - val_accuracy: 0.9200\n",
            "Epoch 29/50\n",
            "28/28 [==============================] - 11s 392ms/step - loss: 0.0224 - accuracy: 0.9927 - val_loss: 0.2888 - val_accuracy: 0.9166\n",
            "Epoch 30/50\n",
            "28/28 [==============================] - 11s 388ms/step - loss: 0.0239 - accuracy: 0.9935 - val_loss: 0.2009 - val_accuracy: 0.9245\n",
            "Epoch 31/50\n",
            "28/28 [==============================] - 11s 391ms/step - loss: 0.0203 - accuracy: 0.9938 - val_loss: 0.2010 - val_accuracy: 0.9301\n",
            "Epoch 32/50\n",
            "28/28 [==============================] - 11s 389ms/step - loss: 0.0157 - accuracy: 0.9944 - val_loss: 0.2168 - val_accuracy: 0.9346\n",
            "Epoch 33/50\n",
            "28/28 [==============================] - 11s 394ms/step - loss: 0.0173 - accuracy: 0.9941 - val_loss: 0.2366 - val_accuracy: 0.9335\n",
            "Epoch 34/50\n",
            "28/28 [==============================] - 11s 393ms/step - loss: 0.0160 - accuracy: 0.9946 - val_loss: 0.2410 - val_accuracy: 0.9278\n",
            "Epoch 35/50\n",
            "28/28 [==============================] - 11s 392ms/step - loss: 0.0161 - accuracy: 0.9946 - val_loss: 0.2049 - val_accuracy: 0.9414\n",
            "Epoch 36/50\n",
            "28/28 [==============================] - 11s 391ms/step - loss: 0.0223 - accuracy: 0.9935 - val_loss: 0.2436 - val_accuracy: 0.9369\n",
            "Epoch 37/50\n",
            "28/28 [==============================] - 11s 392ms/step - loss: 0.0154 - accuracy: 0.9952 - val_loss: 0.2161 - val_accuracy: 0.9335\n",
            "Epoch 38/50\n",
            "28/28 [==============================] - 11s 388ms/step - loss: 0.0178 - accuracy: 0.9935 - val_loss: 0.1892 - val_accuracy: 0.9391\n",
            "Epoch 39/50\n",
            "28/28 [==============================] - 11s 392ms/step - loss: 0.0144 - accuracy: 0.9944 - val_loss: 0.2069 - val_accuracy: 0.9312\n",
            "Epoch 40/50\n",
            "28/28 [==============================] - 11s 395ms/step - loss: 0.0154 - accuracy: 0.9961 - val_loss: 0.1554 - val_accuracy: 0.9448\n",
            "Epoch 41/50\n",
            "28/28 [==============================] - 11s 393ms/step - loss: 0.0083 - accuracy: 0.9977 - val_loss: 0.2214 - val_accuracy: 0.9312\n",
            "Epoch 42/50\n",
            "28/28 [==============================] - 11s 394ms/step - loss: 0.0214 - accuracy: 0.9915 - val_loss: 0.3074 - val_accuracy: 0.9245\n",
            "Epoch 43/50\n",
            "28/28 [==============================] - 11s 392ms/step - loss: 0.0180 - accuracy: 0.9944 - val_loss: 0.2092 - val_accuracy: 0.9324\n",
            "Epoch 44/50\n",
            "28/28 [==============================] - 11s 394ms/step - loss: 0.0120 - accuracy: 0.9946 - val_loss: 0.1736 - val_accuracy: 0.9335\n",
            "Epoch 45/50\n",
            "28/28 [==============================] - 11s 391ms/step - loss: 0.0105 - accuracy: 0.9966 - val_loss: 0.1965 - val_accuracy: 0.9526\n",
            "Epoch 46/50\n",
            "28/28 [==============================] - 11s 392ms/step - loss: 0.0083 - accuracy: 0.9972 - val_loss: 0.2238 - val_accuracy: 0.9414\n",
            "Epoch 47/50\n",
            "28/28 [==============================] - 11s 392ms/step - loss: 0.0154 - accuracy: 0.9932 - val_loss: 0.1532 - val_accuracy: 0.9448\n",
            "Epoch 48/50\n",
            "28/28 [==============================] - 11s 391ms/step - loss: 0.0136 - accuracy: 0.9952 - val_loss: 0.1747 - val_accuracy: 0.9459\n",
            "Epoch 49/50\n",
            "28/28 [==============================] - 11s 394ms/step - loss: 0.0096 - accuracy: 0.9966 - val_loss: 0.2104 - val_accuracy: 0.9324\n",
            "Epoch 50/50\n",
            "28/28 [==============================] - 11s 406ms/step - loss: 0.0110 - accuracy: 0.9963 - val_loss: 0.1621 - val_accuracy: 0.9493\n"
          ]
        }
      ]
    },
    {
      "cell_type": "code",
      "source": [
        "LeNet5_accuracy = LeNet5_history.history['accuracy']\n",
        "LeNet5_val_accuracy = LeNet5_history.history['val_accuracy']\n",
        "LeNet5_loss = LeNet5_history.history['loss']\n",
        "LeNet5_val_loss = LeNet5_history.history['val_loss']\n",
        "LeNet5_epochs = range(50)\n",
        "\n",
        "plt.plot(LeNet5_epochs, LeNet5_accuracy, \"b\", label=\"LeNet5_trainning accuracy\")\n",
        "plt.plot(LeNet5_epochs, LeNet5_val_accuracy, \"r\", label=\"LeNet5_validation accuracy\")\n",
        "plt.legend()\n",
        "plt.show()\n",
        "\n",
        "plt.plot(LeNet5_epochs, LeNet5_loss, \"b\", label=\"LeNet5_trainning loss\")\n",
        "plt.plot(LeNet5_epochs, LeNet5_val_loss, \"r\", label=\"LeNet5_validation loss\")\n",
        "plt.legend()\n",
        "plt.show()"
      ],
      "metadata": {
        "colab": {
          "base_uri": "https://localhost:8080/",
          "height": 513
        },
        "id": "PPm8vkf5Pg8m",
        "outputId": "07e17e9b-a72d-4d36-e23b-88f34fd62874"
      },
      "execution_count": 6,
      "outputs": [
        {
          "output_type": "display_data",
          "data": {
            "text/plain": [
              "<Figure size 432x288 with 1 Axes>"
            ],
            "image/png": "[encoded data removed]"
          },
          "metadata": {
            "needs_background": "light"
          }
        },
        {
          "output_type": "display_data",
          "data": {
            "text/plain": [
              "<Figure size 432x288 with 1 Axes>"
            ],
            "image/png": "[encoded data removed]"
          },
          "metadata": {
            "needs_background": "light"
          }
        }
      ]
    }
  ]
}